{
 "cells": [
  {
   "cell_type": "code",
   "execution_count": null,
   "id": "9d411872",
   "metadata": {},
   "outputs": [],
   "source": [
    "#this is a first look at the DEM dataset\n",
    "from netCDF4 import Dataset, num2date\n",
    "import numpy as np\n",
    "import matplotlib.pyplot as plt\n",
    "import pandas as pd\n",
    "import seaborn as sns\n",
    "import matplotlib.dates as dates\n",
    "from datetime import datetime\n",
    "import matplotlib as mpl\n",
    "import netCDF4 as nc4\n",
    "import warnings\n",
    "warnings.filterwarnings('ignore')"
   ]
  },
  {
   "cell_type": "code",
   "execution_count": null,
   "id": "cab13570",
   "metadata": {},
   "outputs": [],
   "source": [
    "#this section runs elevation profiles \n",
    "import os\n",
    "files = os.listdir(\"C:/Users/laure/OneDrive/Documents/ERDC_FRF/DEM/2019\")\n",
    "\n",
    "    \n",
    "filefull=[\"C:/Users/laure/OneDrive/Documents/ERDC_FRF/DEM/2019/\" + i for i in files]\n",
    "\n",
    "\n",
    "firstDataset = nc4.Dataset(filefull[0])\n",
    "yFRF = firstDataset[\"yFRF\"][:]\n",
    "xFRF = firstDataset[\"xFRF\"][:]\n",
    "ind_956 = np.where(yFRF==956) #choose survey location\n",
    "\n",
    "elevation956 = []\n",
    "time = []\n",
    "z_956 = []\n",
    "snum=[]\n",
    "\n",
    "\n",
    "p,axs = plt.subplots()\n",
    "for i, val in enumerate(filefull):\n",
    "    currDataset = nc4.Dataset(val)\n",
    "    time.append(currDataset['time'][:])\n",
    "    snum.append(currDataset['surveyNumber'][:])\n",
    "    elevation956.append(currDataset['elevation'][0,yFRF==956,:].flatten())\n",
    "    axs.plot(xFRF,elevation956[i])\n",
    "    plt.xlabel('xFRF (m)')\n",
    "    plt.ylabel('elevation (m)')\n",
    "    \n",
    "  \n",
    "    plt.title(\"elevation profile for 956 in year 2019\")\n",
    "    if i==0:\n",
    "        janelevation = currDataset['elevation'][0,:,:]\n",
    "    \n",
    "\n",
    "#print(elevation956[0])\n",
    "plt.show()\n",
    "#print(snum)        \n"
   ]
  },
  {
   "cell_type": "code",
   "execution_count": null,
   "id": "e3e62b22",
   "metadata": {},
   "outputs": [],
   "source": [
    "# this is a top down view of the dem surveys for one month\n",
    "fig=plt.figure()\n",
    "norm=mpl.cm.colors.Normalize(vmax=np.amax(janelevation),vmin=np.amin(janelevation))\n",
    "\n",
    "X, Y = np.meshgrid(xFRF,yFRF)\n",
    "plt.pcolormesh(xFRF,yFRF,janelevation,norm=norm,cmap='jet')\n",
    "'''\n",
    "ax0 = fig.add_subplot(1, 1, 1)\n",
    "ax0[0].set_xlabel('xFRF (m)')\n",
    "ax0[0].set_ylabel('yFRF (m)')\n",
    "cbar=fig.colorbar(mpl.cm.ScalarMappable(norm=norm,cmap='jet'),ax=ax0[0])\n",
    "cbar.set_label('depth (m)')\n",
    "'''\n",
    "\n",
    "plt.title(\"Surveys in the Jan 2019\")\n",
    "plt.show()\n"
   ]
  },
  {
   "cell_type": "code",
   "execution_count": null,
   "id": "a8d647ba",
   "metadata": {},
   "outputs": [],
   "source": []
  }
 ],
 "metadata": {
  "kernelspec": {
   "display_name": "Python 3",
   "language": "python",
   "name": "python3"
  },
  "language_info": {
   "codemirror_mode": {
    "name": "ipython",
    "version": 3
   },
   "file_extension": ".py",
   "mimetype": "text/x-python",
   "name": "python",
   "nbconvert_exporter": "python",
   "pygments_lexer": "ipython3",
   "version": "3.8.8"
  }
 },
 "nbformat": 4,
 "nbformat_minor": 5
}
